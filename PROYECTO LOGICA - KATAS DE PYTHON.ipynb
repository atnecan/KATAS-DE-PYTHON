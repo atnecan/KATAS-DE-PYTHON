{
 "cells": [
  {
   "cell_type": "code",
   "execution_count": null,
   "metadata": {},
   "outputs": [],
   "source": []
  },
  {
   "cell_type": "markdown",
   "metadata": {},
   "source": [
    "PROYECTO LÓGICA: KATAS DE PYTHON"
   ]
  },
  {
   "cell_type": "code",
   "execution_count": 1,
   "metadata": {},
   "outputs": [
    {
     "name": "stdout",
     "output_type": "stream",
     "text": [
      "{'B': 1, 'i': 2, 'e': 3, 'n': 4, 'v': 1, 'd': 3, 'o': 3, 'a': 1, 'l': 1, 'm': 1, 'u': 1, 'P': 1, 'y': 1, 't': 1, 'h': 1}\n"
     ]
    }
   ],
   "source": [
    "# 1. Escribe una función que reciba una cadena de texto como parámetro y devuelva un diccionario con las frecuencias\n",
    "#    de cada letra en la cadena. Los espacios no deben ser considerados.\n",
    "\n",
    "def contar_frecuencias(cadena):\n",
    "    # Crear un diccionario vacío para almacenar las frecuencias\n",
    "    frecuencias = {}\n",
    "    \n",
    "    # Recorrer cada carácter en la cadena\n",
    "    for caracter in cadena:\n",
    "        # Ignorar los espacios\n",
    "        if caracter != ' ':\n",
    "            # Si el carácter ya está en el diccionario, incrementar su contador\n",
    "            if caracter in frecuencias:\n",
    "                frecuencias[caracter] += 1\n",
    "            # Si el carácter no está en el diccionario, agregarlo con un contador inicial de 1\n",
    "            else:\n",
    "                frecuencias[caracter] = 1\n",
    "    \n",
    "    return frecuencias\n",
    "\n",
    "# Ejemplo de uso\n",
    "cadena = \"Bienvenido al mundo de Python\"\n",
    "resultado = contar_frecuencias(cadena)\n",
    "print(resultado)\n"
   ]
  },
  {
   "cell_type": "code",
   "execution_count": 3,
   "metadata": {},
   "outputs": [
    {
     "name": "stdout",
     "output_type": "stream",
     "text": [
      "[2, 4, 6, 8, 10, 12, 14, 16]\n"
     ]
    }
   ],
   "source": [
    "# 2. Dada una lista de números, obtén una nueva lista con el doble de cada valor. Usa la función map().\n",
    "\n",
    "# Lista de números\n",
    "numeros = [1, 2, 3, 4, 5, 6, 7, 8]\n",
    "\n",
    "# Definir una función que duplica el valor\n",
    "def duplicar(x):\n",
    "    return x * 2\n",
    "\n",
    "# Obtener una nueva lista con el doble de cada valor usando map() y la función duplicar\n",
    "dobles = list(map(duplicar, numeros))\n",
    "\n",
    "# Imprimir la nueva lista\n",
    "print(dobles)\n"
   ]
  },
  {
   "cell_type": "code",
   "execution_count": 2,
   "metadata": {},
   "outputs": [
    {
     "name": "stdout",
     "output_type": "stream",
     "text": [
      "['escabeche']\n"
     ]
    }
   ],
   "source": [
    "# 3. Escribe una función que tome una lista de palabras y una palabra objetivo como parámetros. La función\n",
    "#    debe devolver una lista con todas las palabras de la lista original que contengan la palabra objetivo.\n",
    "\n",
    "def encontrar_palabras(lista_palabras, palabra_objetivo):\n",
    "    # Crear una lista vacía para almacenar las palabras que contienen la palabra objetivo\n",
    "    palabras_con_objetivo = []\n",
    "    \n",
    "    # Recorrer cada palabra en la lista de palabras\n",
    "    for palabra in lista_palabras:\n",
    "        # Verificar si la palabra objetivo está en la palabra actual\n",
    "        if palabra_objetivo in palabra:\n",
    "            # Agregar la palabra a la lista si contiene la palabra objetivo\n",
    "            palabras_con_objetivo.append(palabra)\n",
    "    \n",
    "    return palabras_con_objetivo\n",
    "\n",
    "# Ejemplo de uso\n",
    "lista_palabras = [\"espagueti\",\"boquerones\",\"lasaña\",\"merluza\",\"pollo\",\"escabeche\",\"paella\"]\n",
    "palabra_objetivo = \"escabeche\"\n",
    "resultado = encontrar_palabras(lista_palabras, palabra_objetivo)\n",
    "print(resultado)\n"
   ]
  },
  {
   "cell_type": "code",
   "execution_count": 4,
   "metadata": {},
   "outputs": [
    {
     "name": "stdout",
     "output_type": "stream",
     "text": [
      "[10, 20, 30, 40, 50]\n"
     ]
    }
   ],
   "source": [
    "# 4. Genera la función que calcule la diferencia entre los valores de dos listas. Usa la función map()\n",
    "\n",
    "def calcular_diferencias(lista1, lista2):\n",
    "    # Utilizar map() para restar los valores correspondientes de las dos listas\n",
    "    diferencias = list(map(lambda x, y: x - y, lista1, lista2))\n",
    "    return diferencias\n",
    "\n",
    "# Ejemplo de uso\n",
    "lista1 = [11, 22, 33, 44, 55]\n",
    "lista2 = [1, 2, 3, 4, 5]\n",
    "resultado = calcular_diferencias(lista1, lista2)\n",
    "print(resultado)\n"
   ]
  },
  {
   "cell_type": "code",
   "execution_count": null,
   "metadata": {},
   "outputs": [
    {
     "name": "stdout",
     "output_type": "stream",
     "text": [
      "(6.36, 'aprobado')\n"
     ]
    }
   ],
   "source": [
    "# 5. Escribe una función que tome una lista de números y un valor opcional nota_aprobado, que por defecto es 5.\n",
    "#    La función debe calcular la media de los números en la lista y determinar si la media es mayor o igual que\n",
    "#    nota aprobado. Si es así, el estado será \"aprobado\", de lo contrario, será \"suspenso\". La función debe devolver\n",
    "#    una tupla que contenga la media y el estado.\n",
    "\n",
    "def calcular_media(lista_numeros, nota_aprobado=5):\n",
    "    # Calcular la media de los números en la lista\n",
    "    media = round(sum(lista_numeros) / len(lista_numeros), 2) if lista_numeros else 0\n",
    "    \n",
    "    # Determinar el estado\n",
    "    if media >= nota_aprobado:\n",
    "        estado = \"aprobado\"\n",
    "    else:\n",
    "        estado = \"suspenso\"\n",
    "    \n",
    "    # Devolver una tupla con la media y el estado\n",
    "    return (media, estado)\n",
    "\n",
    "# Ejemplo de uso\n",
    "lista_numeros = [5, 4.5, 6, 7, 5, 8, 9]\n",
    "resultado = calcular_media(lista_numeros)\n",
    "print(resultado)  # Salida: (6.36, 'aprobado')\n"
   ]
  },
  {
   "cell_type": "code",
   "execution_count": 1,
   "metadata": {},
   "outputs": [
    {
     "name": "stdout",
     "output_type": "stream",
     "text": [
      "El factorial de 10 es 3628800\n"
     ]
    }
   ],
   "source": [
    "# 6. Escribe una función que calcule el factorial de un número de manera recursiva.\n",
    "\n",
    "def factorial(n):\n",
    "    if n == 0:\n",
    "        return 1\n",
    "    else:\n",
    "        return n * factorial(n - 1)\n",
    "\n",
    "# Ejemplo de uso\n",
    "numero = 10\n",
    "resultado = factorial(numero)\n",
    "print(f\"El factorial de {numero} es {resultado}\")\n"
   ]
  },
  {
   "cell_type": "code",
   "execution_count": 4,
   "metadata": {},
   "outputs": [
    {
     "name": "stdout",
     "output_type": "stream",
     "text": [
      "['10 20', '30 40', '50 60']\n"
     ]
    }
   ],
   "source": [
    "# 7. Genera una función que convierta una lista de tuplas a una lista de strings. Usa la función map()\n",
    "\n",
    "def tuplas_a_strings(lista_tuplas):\n",
    "    # Función que convierte una tupla a un string\n",
    "    def tupla_a_string(tupla):\n",
    "        return ' '.join(map(str, tupla))\n",
    "    \n",
    "    # Usar map() para aplicar la función tupla_a_string a cada elemento de la lista\n",
    "    lista_strings = list(map(tupla_a_string, lista_tuplas))\n",
    "    return lista_strings\n",
    "\n",
    "# Ejemplo de uso\n",
    "lista_tuplas = [(10, 20), (30, 40), (50, 60)]\n",
    "lista_strings = tuplas_a_strings(lista_tuplas)\n",
    "print(lista_strings)\n"
   ]
  },
  {
   "cell_type": "code",
   "execution_count": 9,
   "metadata": {},
   "outputs": [
    {
     "name": "stdout",
     "output_type": "stream",
     "text": [
      "La división fue exitosa. El resultado de 33.0 / 2.0 es 16.5.\n",
      "Fin del programa.\n"
     ]
    }
   ],
   "source": [
    "# 8. Escribe un programa que pida al usuario dos números e intente dividirlos. Si el usuario ingresa un valor no numérico\n",
    "#    o intenta dividir por cero, maneja esas excepciones de manera adecuada. Asegúrate de mostrar un mensaje \n",
    "#    indicando si la división fue exitosa o no. \n",
    "\n",
    "def dividir_numeros():\n",
    "    try:\n",
    "        # Pedir al usuario que ingrese dos números\n",
    "        num1 = float(input(\"Introduce el primer número: \"))\n",
    "        num2 = float(input(\"Introduce el segundo número: \"))\n",
    "        \n",
    "        # Intentar dividir los números\n",
    "        resultado = num1 / num2\n",
    "    except ValueError:\n",
    "        # Manejar el caso en que el usuario ingresa un valor no numérico\n",
    "        print(\"Error: Uno o ambos valores ingresados no son números. Por favor, introduce números válidos.\")\n",
    "    except ZeroDivisionError:\n",
    "        # Manejar el caso en que el usuario intenta dividir por cero\n",
    "        print(\"Error: No se puede dividir por cero. Por favor, introduce un segundo número diferente de cero.\")\n",
    "    else:\n",
    "        # Mostrar el resultado si la división fue exitosa\n",
    "        print(f\"La división fue exitosa. El resultado de {num1} / {num2} es {resultado}.\")\n",
    "    finally:\n",
    "        # Mensaje final que siempre se muestra\n",
    "        print(\"Fin del programa.\")\n",
    "\n",
    "# Ejemplo de uso\n",
    "dividir_numeros()\n"
   ]
  },
  {
   "cell_type": "code",
   "execution_count": 2,
   "metadata": {},
   "outputs": [
    {
     "name": "stdout",
     "output_type": "stream",
     "text": [
      "['Perro', 'Gato', 'Hamster', 'Conejo', 'Loro', 'Iguana', 'Pez dorado', 'Canario', 'Cobaya', 'Chinchilla']\n"
     ]
    }
   ],
   "source": [
    "# 9. Escribe una función que tome una lista de nombres de mascotas como parámetro y devuelva una nueva lista\n",
    "#    excluyendo ciertas mascotas prohibidas en España. La lista de mascotas a excluir es [\"Mapache\",\"Tigre\",\"Serpiente Pitón\",\"Cocodrilo\",\"Oso\"]\n",
    "#    Usa la función filter()\n",
    "\n",
    "def filtrar_mascotas(lista_mascotas):\n",
    "    mascotas_prohibidas = [\"Mapache\", \"Tigre\", \"Serpiente Pitón\", \"Cocodrilo\", \"Oso\", \n",
    "                           \"Lobo\", \"León\", \"Pantera\", \"Elefante\", \"Hipopótamo\",\n",
    "                           \"Rinoceronte\", \"Jabalí\", \"Canguro\", \"Chimpancé\", \"Gorila\",\n",
    "                           \"Jaguar\", \"Dragón de Komodo\", \"Foca\"]\n",
    "    return list(filter(lambda mascota: mascota not in mascotas_prohibidas, lista_mascotas))\n",
    "\n",
    "# Ejemplo de uso\n",
    "lista_mascotas = [\"Perro\", \"Gato\", \"Mapache\", \"Tigre\", \"Hamster\", \"Serpiente Pitón\", \"Conejo\", \n",
    "                  \"Loro\", \"Oso\", \"Lobo\", \"Elefante\", \"Foca\", \"Iguana\", \"Pez dorado\", \"Canario\", \"Cobaya\", \"Chinchilla\"]\n",
    "lista_filtrada = filtrar_mascotas(lista_mascotas)\n",
    "print(lista_filtrada)  # Salida: ['Perro', 'Gato', 'Hamster', 'Conejo', 'Loro', 'Iguana', 'Pez dorado', 'Canario', 'Cobaya', 'Chinchilla']\n",
    "\n",
    "\n",
    "\n"
   ]
  },
  {
   "cell_type": "code",
   "execution_count": 6,
   "metadata": {},
   "outputs": [
    {
     "name": "stdout",
     "output_type": "stream",
     "text": [
      "El promedio es: 1.40625\n",
      "La lista está vacía. No se puede calcular el promedio.\n"
     ]
    }
   ],
   "source": [
    "# 10. Escribe un función que reciba una lista de números y calcule su promedio. Si la lista está vacía, lanza una excepción personalizada y maneja\n",
    "#     el error adecuadamente.\n",
    "\n",
    "class ListaVaciaError(Exception):\n",
    "    \"\"\"Excepción personalizada para listas vacías.\"\"\"\n",
    "    pass\n",
    "\n",
    "def calcular_promedio(lista_numeros):\n",
    "    if not lista_numeros:\n",
    "        raise ListaVaciaError(\"La lista está vacía. No se puede calcular el promedio.\")\n",
    "    return sum(lista_numeros) / len(lista_numeros)\n",
    "\n",
    "# Ejemplo de uso\n",
    "try:\n",
    "    lista_numeros = [1, -2, 3.5, 4, -10, 8.75, 0, 6]\n",
    "    promedio = calcular_promedio(lista_numeros)\n",
    "    print(f\"El promedio es: {promedio}\")\n",
    "    \n",
    "    # Prueba con una lista vacía\n",
    "    lista_vacia = []\n",
    "    promedio_vacio = calcular_promedio(lista_vacia)\n",
    "    print(f\"El promedio es: {promedio_vacio}\")\n",
    "except ListaVaciaError as e:\n",
    "    print(e)\n"
   ]
  },
  {
   "cell_type": "code",
   "execution_count": 8,
   "metadata": {},
   "outputs": [
    {
     "name": "stdout",
     "output_type": "stream",
     "text": [
      "Error: La edad debe estar entre 0 y 120.. Por favor, introduce un valor válido.\n",
      "Error: La edad debe estar entre 0 y 120.. Por favor, introduce un valor válido.\n",
      "Tu edad es: 25\n"
     ]
    }
   ],
   "source": [
    "# 11. Escribe un programa que pida al usuario que introduzca su edad. Si el usuario ingresa un valor no númerico o un valor fuera de rango esperado \n",
    "#     (por ejemplo, menor que 0 o mayor que 120), maneja las excepciones adecuadamente.\n",
    "\n",
    "def pedir_edad():\n",
    "    while True:\n",
    "        try:\n",
    "            edad = int(input(\"Por favor, introduce tu edad: \"))\n",
    "            if edad < 0 or edad > 120:\n",
    "                raise ValueError(\"La edad debe estar entre 0 y 120.\")\n",
    "            print(f\"Tu edad es: {edad}\")\n",
    "            break\n",
    "        except ValueError as e:\n",
    "            print(f\"Error: {e}. Por favor, introduce un valor válido.\")\n",
    "\n",
    "# Ejecutar la función\n",
    "pedir_edad()\n"
   ]
  },
  {
   "cell_type": "code",
   "execution_count": null,
   "metadata": {},
   "outputs": [],
   "source": [
    "# 12. Genera una función que al recibir una frase devuelva una lista con la longitud de cada palabra. Usa la función map()"
   ]
  },
  {
   "cell_type": "code",
   "execution_count": 2,
   "metadata": {},
   "outputs": [
    {
     "name": "stdout",
     "output_type": "stream",
     "text": [
      "[1, 5, 3, 6, 4, 3, 3, 3, 8]\n"
     ]
    }
   ],
   "source": [
    "def longitudes_palabras(frase):\n",
    "    # Dividir la frase en palabras\n",
    "    palabras = frase.split()\n",
    "    # Usar la función map para obtener la longitud de cada palabra\n",
    "    longitudes = list(map(len, palabras))\n",
    "    return longitudes\n",
    "\n",
    "# Ejemplo de uso\n",
    "frase = \"A veces una imagen vale más que mil palabras\"\n",
    "print(longitudes_palabras(frase))\n"
   ]
  },
  {
   "cell_type": "code",
   "execution_count": null,
   "metadata": {},
   "outputs": [],
   "source": [
    "# 13. Genera una función la cual, para un conjunto de caracteres, devuelva una lista de tuplas con cada letra en mayúsculas\n",
    "#     y minúsculas. Las letras no pueden estar repetidas. Usa la función map()"
   ]
  },
  {
   "cell_type": "code",
   "execution_count": 4,
   "metadata": {},
   "outputs": [
    {
     "name": "stdout",
     "output_type": "stream",
     "text": [
      "[('M', 'm'), ('T', 't'), ('S', 's'), ('R', 'r'), ('O', 'o'), ('E', 'e'), ('I', 'i')]\n"
     ]
    }
   ],
   "source": [
    "def tuplas_mayusculas_minusculas(caracteres):\n",
    "    # Convertir el conjunto de caracteres a un conjunto para eliminar duplicados\n",
    "    caracteres_unicos = set(caracteres)\n",
    "    # Usar map para crear tuplas con las letras en mayúsculas y minúsculas\n",
    "    tuplas = list(map(lambda x: (x.upper(), x.lower()), caracteres_unicos))\n",
    "    return tuplas\n",
    "\n",
    "# Ejemplo de uso\n",
    "conjunto_caracteres = \"misterioso\"\n",
    "print(tuplas_mayusculas_minusculas(conjunto_caracteres))"
   ]
  },
  {
   "cell_type": "code",
   "execution_count": null,
   "metadata": {},
   "outputs": [],
   "source": [
    "# 14. Crea una función que retorne las palabras de una lista de palabras que comience con una letra en específico. Usa la función filter()"
   ]
  },
  {
   "cell_type": "code",
   "execution_count": 8,
   "metadata": {},
   "outputs": [
    {
     "name": "stdout",
     "output_type": "stream",
     "text": [
      "['manzana', 'mango', 'melocotón', 'mandarina']\n"
     ]
    }
   ],
   "source": [
    "def palabras_con_letra_especifica(lista_palabras, letra):\n",
    "    # Usar filter para seleccionar las palabras que comienzan con la letra especificada\n",
    "    palabras_filtradas = list(filter(lambda palabra: palabra.lower().startswith(letra.lower()), lista_palabras))\n",
    "    return palabras_filtradas\n",
    "\n",
    "# Ejemplo de uso\n",
    "lista_palabras = [\"manzana\", \"plátano\", \"mango\", \"pera\", \"melocotón\", \"mandarina\", \"kiwi\", \"fresa\", \"frambuesa\", \"naranja\", \"uva\", \"arándano\", \"ciruela\", \"sandía\", \"cereza\", \"limón\", \"pomelo\", \"albaricoque\", \"grosella\"]\n",
    "letra = 'm'\n",
    "print(palabras_con_letra_especifica(lista_palabras, letra))"
   ]
  },
  {
   "cell_type": "code",
   "execution_count": null,
   "metadata": {},
   "outputs": [],
   "source": [
    "# 15. Crea una función lambda que sume 3 a cada número de una lista dada."
   ]
  },
  {
   "cell_type": "code",
   "execution_count": 10,
   "metadata": {},
   "outputs": [
    {
     "name": "stdout",
     "output_type": "stream",
     "text": [
      "[13, 18, 23, 28, 33]\n"
     ]
    }
   ],
   "source": [
    "# Lista de ejemplo\n",
    "lista_numeros = [10, 15, 20, 25, 30]\n",
    "\n",
    "# Usar map con una función lambda para sumar 3 a cada número\n",
    "nueva_lista = list(map(lambda x: x + 3, lista_numeros))\n",
    "\n",
    "print(nueva_lista)"
   ]
  },
  {
   "cell_type": "code",
   "execution_count": null,
   "metadata": {},
   "outputs": [],
   "source": [
    "# 16. Escribe una función que tome una cadena de texto y un número entero n como parámetros y devuelva una lista de todas las palabras\n",
    "#     que sean más largas que n. Usa la función filter()"
   ]
  },
  {
   "cell_type": "code",
   "execution_count": 13,
   "metadata": {},
   "outputs": [
    {
     "name": "stdout",
     "output_type": "stream",
     "text": [
      "['aprendiendo', 'encanta', 'programar', 'soluciones', 'interesantes']\n"
     ]
    }
   ],
   "source": [
    "def palabras_mas_largas_que_n(texto, n):\n",
    "    # Dividir el texto en palabras\n",
    "    palabras = texto.split()\n",
    "    # Usar filter para seleccionar las palabras más largas que n\n",
    "    palabras_filtradas = list(filter(lambda palabra: len(palabra) > n, palabras))\n",
    "    return palabras_filtradas\n",
    "\n",
    "# Ejemplo de uso\n",
    "cadena_texto = \"Estoy aprendiendo Python y me encanta programar soluciones interesantes\"\n",
    "n = 6\n",
    "print(palabras_mas_largas_que_n(cadena_texto, n))"
   ]
  },
  {
   "cell_type": "code",
   "execution_count": null,
   "metadata": {},
   "outputs": [],
   "source": [
    "# 17. Crea una función que tome una lista de dígitos y devueva el número correspondiente. Por ejemplo, [5,7,2]\n",
    "#     corresponde al número quinientos setenta y dos (572). Usa la función reduce()"
   ]
  },
  {
   "cell_type": "code",
   "execution_count": 14,
   "metadata": {},
   "outputs": [
    {
     "name": "stdout",
     "output_type": "stream",
     "text": [
      "572\n"
     ]
    }
   ],
   "source": [
    "from functools import reduce\n",
    "\n",
    "def lista_a_numero(lista_digitos):\n",
    "    # Usar reduce para combinar los dígitos en un solo número\n",
    "    numero = reduce(lambda x, y: x * 10 + y, lista_digitos)\n",
    "    return numero\n",
    "\n",
    "# Ejemplo de uso\n",
    "lista_digitos = [5, 7, 2]\n",
    "print(lista_a_numero(lista_digitos))"
   ]
  },
  {
   "cell_type": "code",
   "execution_count": null,
   "metadata": {},
   "outputs": [],
   "source": [
    "# 18. Escribe un programa en Python que cree una lista de diccionarios que contenga información de estudiantes (nombre, edad, calificación)\n",
    "#     y use la función filter para extraer a los estudiantes con una calificación mayor o igual a 90. Usa la función filter()"
   ]
  },
  {
   "cell_type": "code",
   "execution_count": 15,
   "metadata": {},
   "outputs": [
    {
     "name": "stdout",
     "output_type": "stream",
     "text": [
      "[{'nombre': 'Laura', 'edad': 19, 'calificación': 92}, {'nombre': 'Lucía', 'edad': 21, 'calificación': 95}, {'nombre': 'Elena', 'edad': 23, 'calificación': 91}]\n"
     ]
    }
   ],
   "source": [
    "# Crear lista de diccionarios con información de estudiantes\n",
    "estudiantes = [\n",
    "    {\"nombre\": \"Miguel\", \"edad\": 18, \"calificación\": 85},\n",
    "    {\"nombre\": \"Laura\", \"edad\": 19, \"calificación\": 92},\n",
    "    {\"nombre\": \"Diego\", \"edad\": 20, \"calificación\": 78},\n",
    "    {\"nombre\": \"Lucía\", \"edad\": 21, \"calificación\": 95},\n",
    "    {\"nombre\": \"Raúl\", \"edad\": 22, \"calificación\": 88},\n",
    "    {\"nombre\": \"Elena\", \"edad\": 23, \"calificación\": 91}\n",
    "]\n",
    "\n",
    "# Usar filter para extraer a los estudiantes con calificación mayor o igual a 90\n",
    "estudiantes_sobresalientes = list(filter(lambda estudiante: estudiante[\"calificación\"] >= 90, estudiantes))\n",
    "\n",
    "# Mostrar estudiantes sobresalientes\n",
    "print(estudiantes_sobresalientes)"
   ]
  },
  {
   "cell_type": "code",
   "execution_count": null,
   "metadata": {},
   "outputs": [],
   "source": [
    "# 19. Crea una función lambda que filtre los números impares de una lista dada."
   ]
  },
  {
   "cell_type": "code",
   "execution_count": 16,
   "metadata": {},
   "outputs": [
    {
     "name": "stdout",
     "output_type": "stream",
     "text": [
      "[1, 3, 5, 7, 9]\n"
     ]
    }
   ],
   "source": [
    "# Lista de ejemplo\n",
    "lista_numeros = [1, 2, 3, 4, 5, 6, 7, 8, 9, 10]\n",
    "\n",
    "# Usar filter con una función lambda para filtrar los números impares\n",
    "numeros_impares = list(filter(lambda x: x % 2 != 0, lista_numeros))\n",
    "\n",
    "print(numeros_impares)"
   ]
  },
  {
   "cell_type": "code",
   "execution_count": null,
   "metadata": {},
   "outputs": [],
   "source": [
    "# 20. Para una lista con elementos tipo integer y string obtén una nueva lista sólo con los valores int. Usa la función filter()"
   ]
  },
  {
   "cell_type": "code",
   "execution_count": 17,
   "metadata": {},
   "outputs": [
    {
     "name": "stdout",
     "output_type": "stream",
     "text": [
      "[1, 2, 3, 4, 5]\n"
     ]
    }
   ],
   "source": [
    "# Lista de ejemplo con elementos tipo integer y string\n",
    "lista_mixta = [1, \"hola\", 2, \"mundo\", 3, \"Python\", 4, 5, \"AI\"]\n",
    "\n",
    "# Usar filter con una función lambda para filtrar solo los valores int\n",
    "valores_int = list(filter(lambda x: isinstance(x, int), lista_mixta))\n",
    "\n",
    "print(valores_int)"
   ]
  },
  {
   "cell_type": "code",
   "execution_count": null,
   "metadata": {},
   "outputs": [],
   "source": [
    "# 21. Crea una función que calcule el cubo de un número dado mediante una función lambda."
   ]
  },
  {
   "cell_type": "code",
   "execution_count": 21,
   "metadata": {},
   "outputs": [
    {
     "name": "stdout",
     "output_type": "stream",
     "text": [
      "216\n"
     ]
    }
   ],
   "source": [
    "# Definir la función lambda para calcular el cubo\n",
    "cubo = lambda x: x ** 3\n",
    "\n",
    "# Ejemplo de uso\n",
    "numero = 6\n",
    "print(cubo(numero))  # Salida: 216\n"
   ]
  },
  {
   "cell_type": "code",
   "execution_count": null,
   "metadata": {},
   "outputs": [],
   "source": [
    "# 22. Dada una lista numérica, obtén el producto total de los valores de dicha lista. Usa la función reduce()"
   ]
  },
  {
   "cell_type": "code",
   "execution_count": null,
   "metadata": {},
   "outputs": [],
   "source": [
    "from functools import reduce\n",
    "\n",
    "# Definir la función para obtener el producto total\n",
    "def producto_total(lista_numerica):\n",
    "    # Usar reduce para calcular el producto de todos los valores de la lista\n",
    "    producto = reduce(lambda x, y: x * y, lista_numerica)\n",
    "    return producto\n",
    "\n",
    "# Nueva lista numérica de ejemplo\n",
    "lista_numerica_larga = [2, 3, 4, 5, 6, 7, 8, 9, 10]\n",
    "print(producto_total(lista_numerica_larga))  # Salida: 3628800"
   ]
  },
  {
   "cell_type": "code",
   "execution_count": null,
   "metadata": {},
   "outputs": [],
   "source": [
    "# 23. Concatena una lista de palabras. Usa la función reduce()"
   ]
  },
  {
   "cell_type": "code",
   "execution_count": 23,
   "metadata": {},
   "outputs": [
    {
     "name": "stdout",
     "output_type": "stream",
     "text": [
      "La vida es un constante aprendizaje\n"
     ]
    }
   ],
   "source": [
    "from functools import reduce\n",
    "\n",
    "# Definir la función para concatenar las palabras\n",
    "def concatenar_palabras(lista_palabras):\n",
    "    # Usar reduce para concatenar todas las palabras de la lista\n",
    "    frase_concatenada = reduce(lambda x, y: x + \" \" + y, lista_palabras)\n",
    "    return frase_concatenada\n",
    "\n",
    "# Ejemplo de uso\n",
    "lista_palabras = [\"La\", \"vida\", \"es\", \"un\", \"constante\", \"aprendizaje\"]\n",
    "print(concatenar_palabras(lista_palabras))"
   ]
  },
  {
   "cell_type": "code",
   "execution_count": null,
   "metadata": {},
   "outputs": [],
   "source": [
    "# 24. Calcula la diferencia total en los valores de una lista. Usa la función reduce()"
   ]
  },
  {
   "cell_type": "code",
   "execution_count": null,
   "metadata": {},
   "outputs": [
    {
     "name": "stdout",
     "output_type": "stream",
     "text": [
      "12\n"
     ]
    }
   ],
   "source": [
    "from functools import reduce\n",
    "\n",
    "# Definir la función para calcular la diferencia total\n",
    "def diferencia_total(lista_numerica):\n",
    "    # Usar reduce para calcular la diferencia de todos los valores de la lista\n",
    "    diferencia = reduce(lambda x, y: x - y, lista_numerica)\n",
    "    return diferencia\n",
    "\n",
    "# Ejemplo de uso\n",
    "lista_numerica = [50, 15, 10, 5, 8]\n",
    "print(diferencia_total(lista_numerica))  # Salida: 12"
   ]
  },
  {
   "cell_type": "code",
   "execution_count": null,
   "metadata": {},
   "outputs": [],
   "source": [
    "# 25. Crea una función que cuente el número de caracteres en una cadena de texto dada"
   ]
  },
  {
   "cell_type": "code",
   "execution_count": null,
   "metadata": {},
   "outputs": [
    {
     "name": "stdout",
     "output_type": "stream",
     "text": [
      "24\n"
     ]
    }
   ],
   "source": [
    "def contar_caracteres(cadena):\n",
    "    return len(cadena)\n",
    "\n",
    "# Ejemplo de uso\n",
    "cadena_texto = \"Hola, hoy es un gran día\"\n",
    "print(contar_caracteres(cadena_texto))  # Salida: 24\n"
   ]
  },
  {
   "cell_type": "code",
   "execution_count": null,
   "metadata": {},
   "outputs": [],
   "source": [
    "# 26. Crea una función lambda que calcule el resto de la división entre dos números dados."
   ]
  },
  {
   "cell_type": "code",
   "execution_count": 27,
   "metadata": {},
   "outputs": [
    {
     "name": "stdout",
     "output_type": "stream",
     "text": [
      "1\n"
     ]
    }
   ],
   "source": [
    "# Definir la función lambda para calcular el resto de la división\n",
    "resto_division = lambda x, y: x % y\n",
    "\n",
    "# Ejemplo de uso\n",
    "numero1 = 25\n",
    "numero2 = 4\n",
    "print(resto_division(numero1, numero2))  # Salida: 1"
   ]
  },
  {
   "cell_type": "code",
   "execution_count": null,
   "metadata": {},
   "outputs": [],
   "source": [
    "# 27. Crea una función que calcule el promedio de una lista de números."
   ]
  },
  {
   "cell_type": "code",
   "execution_count": 28,
   "metadata": {},
   "outputs": [
    {
     "name": "stdout",
     "output_type": "stream",
     "text": [
      "17.6\n"
     ]
    }
   ],
   "source": [
    "def calcular_promedio(lista_numeros):\n",
    "    # Verificar si la lista está vacía\n",
    "    if not lista_numeros:\n",
    "        return 0\n",
    "    # Calcular la suma de los números y dividir entre la cantidad de elementos\n",
    "    promedio = sum(lista_numeros) / len(lista_numeros)\n",
    "    return promedio\n",
    "\n",
    "# Nueva lista de números de ejemplo\n",
    "nueva_lista_numeros = [8, 12, 16, 24, 28]\n",
    "print(calcular_promedio(nueva_lista_numeros))  # Salida: 17.6"
   ]
  },
  {
   "cell_type": "code",
   "execution_count": null,
   "metadata": {},
   "outputs": [],
   "source": [
    "# 28. Crea una función que busque y devuelva el primer elemento duplicado en una lista dada."
   ]
  },
  {
   "cell_type": "code",
   "execution_count": 29,
   "metadata": {},
   "outputs": [
    {
     "name": "stdout",
     "output_type": "stream",
     "text": [
      "7\n"
     ]
    }
   ],
   "source": [
    "def primer_duplicado(lista):\n",
    "    # Crear un conjunto para almacenar los elementos vistos\n",
    "    vistos = set()\n",
    "    # Recorrer la lista\n",
    "    for elemento in lista:\n",
    "        # Verificar si el elemento ya está en el conjunto\n",
    "        if elemento in vistos:\n",
    "            return elemento\n",
    "        # Agregar el elemento al conjunto si no está duplicado\n",
    "        vistos.add(elemento)\n",
    "    # Devolver None si no hay duplicados\n",
    "    return None\n",
    "\n",
    "# Nueva lista de ejemplo\n",
    "nueva_lista_ejemplo = [7, 2, 8, 5, 6, 7, 9, 10]\n",
    "print(primer_duplicado(nueva_lista_ejemplo))  # Salida: 7"
   ]
  },
  {
   "cell_type": "code",
   "execution_count": null,
   "metadata": {},
   "outputs": [],
   "source": [
    "# 29. Crea una función que convierta una variable en una cadena de texto y enmascare todos los caracteres con\n",
    "#     el carácter '#', excepto los últimos cuatro."
   ]
  },
  {
   "cell_type": "code",
   "execution_count": 30,
   "metadata": {},
   "outputs": [
    {
     "name": "stdout",
     "output_type": "stream",
     "text": [
      "#####6789\n"
     ]
    }
   ],
   "source": [
    "def enmascarar_variable(variable):\n",
    "    # Convertir la variable a una cadena de texto\n",
    "    cadena = str(variable)\n",
    "    # Enmascarar todos los caracteres excepto los últimos cuatro\n",
    "    enmascarada = \"#\" * (len(cadena) - 4) + cadena[-4:]\n",
    "    return enmascarada\n",
    "\n",
    "# Ejemplo de uso\n",
    "variable = 123456789\n",
    "print(enmascarar_variable(variable))  # Salida: #####6789"
   ]
  },
  {
   "cell_type": "code",
   "execution_count": null,
   "metadata": {},
   "outputs": [],
   "source": [
    "# 30. Crea una función que determine si dos palabras son anagramas, es decir, si están formadas por las mismas letras\n",
    "#     pero en diferente orden"
   ]
  },
  {
   "cell_type": "code",
   "execution_count": 34,
   "metadata": {},
   "outputs": [
    {
     "name": "stdout",
     "output_type": "stream",
     "text": [
      "Las palabras 'Roma' y 'Amor' son anagramas: Correcto\n",
      "Las palabras 'Casa' y 'Saco' no son anagramas: Incorrecto\n"
     ]
    }
   ],
   "source": [
    "def son_anagramas(palabra1, palabra2):\n",
    "    # Convertir ambas palabras a minúsculas y eliminar espacios\n",
    "    palabra1 = palabra1.replace(\" \", \"\").lower()\n",
    "    palabra2 = palabra2.replace(\" \", \"\").lower()\n",
    "    # Verificar si ambas palabras tienen las mismas letras en el mismo número\n",
    "    return sorted(palabra1) == sorted(palabra2)\n",
    "\n",
    "# Ejemplo de anagramas correctos\n",
    "palabra1 = \"Roma\"\n",
    "palabra2 = \"Amor\"\n",
    "es_anagrama = son_anagramas(palabra1, palabra2)\n",
    "if es_anagrama:\n",
    "    print(f\"Las palabras '{palabra1}' y '{palabra2}' son anagramas: Correcto\")\n",
    "else:\n",
    "    print(f\"Las palabras '{palabra1}' y '{palabra2}' no son anagramas: Incorrecto\")\n",
    "\n",
    "# Ejemplo de anagramas incorrectos\n",
    "palabra1 = \"Casa\"\n",
    "palabra2 = \"Saco\"\n",
    "es_anagrama = son_anagramas(palabra1, palabra2)\n",
    "if es_anagrama:\n",
    "    print(f\"Las palabras '{palabra1}' y '{palabra2}' son anagramas: Correcto\")\n",
    "else:\n",
    "    print(f\"Las palabras '{palabra1}' y '{palabra2}' no son anagramas: Incorrecto\")\n",
    "\n"
   ]
  },
  {
   "cell_type": "code",
   "execution_count": null,
   "metadata": {},
   "outputs": [],
   "source": [
    "# 31. Crea una función que solicite al usaurario ingresar una lista de nombres y luego solicite un nombre para buscar en\n",
    "#     esa lista. Si el nombre está en la lista, se imprime un mensaje indicando que fue encontrado, de lo contrario, se\n",
    "#     lanza una excepción"
   ]
  },
  {
   "cell_type": "code",
   "execution_count": 36,
   "metadata": {},
   "outputs": [
    {
     "name": "stdout",
     "output_type": "stream",
     "text": [
      "El nombre 'marc' fue encontrado en la lista.\n"
     ]
    }
   ],
   "source": [
    "def buscar_nombre():\n",
    "    try:\n",
    "        # Solicitar al usuario ingresar una lista de nombres\n",
    "        lista_nombres = input(\"Ingrese una lista de nombres separados por comas: \").split(',')\n",
    "        # Eliminar espacios en blanco alrededor de los nombres\n",
    "        lista_nombres = [nombre.strip() for nombre in lista_nombres]\n",
    "        \n",
    "        # Solicitar al usuario ingresar un nombre para buscar\n",
    "        nombre_a_buscar = input(\"Ingrese el nombre a buscar: \").strip()\n",
    "        \n",
    "        # Verificar si el nombre está en la lista\n",
    "        if nombre_a_buscar in lista_nombres:\n",
    "            print(f\"El nombre '{nombre_a_buscar}' fue encontrado en la lista.\")\n",
    "        else:\n",
    "            # Lanzar una excepción si el nombre no fue encontrado\n",
    "            raise ValueError(f\"El nombre '{nombre_a_buscar}' no se encuentra en la lista.\")\n",
    "    except ValueError as e:\n",
    "        print(e)\n",
    "\n",
    "# Ejemplo de uso\n",
    "buscar_nombre()"
   ]
  },
  {
   "cell_type": "code",
   "execution_count": null,
   "metadata": {},
   "outputs": [],
   "source": [
    "# 32. Crea una función que tome un nombre completo y una lista de empleados, busque el nombre completo en la lista y devuelve el puesto\n",
    "#     del empleado si está en la lista, de lo contrario, devuelve un mensaje indicando que la persona no trabaja aquí."
   ]
  },
  {
   "cell_type": "code",
   "execution_count": 40,
   "metadata": {},
   "outputs": [
    {
     "name": "stdout",
     "output_type": "stream",
     "text": [
      "Elena Martínez trabaja como Gerente de Proyecto.\n",
      "Carlos Mendoza no trabaja aquí.\n"
     ]
    }
   ],
   "source": [
    "def buscar_puesto(nombre_completo, lista_empleados):\n",
    "    # Recorrer la lista de empleados\n",
    "    for empleado in lista_empleados:\n",
    "        # Verificar si el nombre completo coincide\n",
    "        if empleado['nombre'] == nombre_completo:\n",
    "            return f\"{nombre_completo} trabaja como {empleado['puesto']}.\"\n",
    "    # Devolver un mensaje si la persona no trabaja aquí\n",
    "    return f\"{nombre_completo} no trabaja aquí.\"\n",
    "\n",
    "# Nueva lista de empleados de ejemplo\n",
    "lista_empleados = [\n",
    "    {'nombre': 'Roberto Díaz', 'puesto': 'Desarrollador de Software'},\n",
    "    {'nombre': 'Elena Martínez', 'puesto': 'Gerente de Proyecto'},\n",
    "    {'nombre': 'Fernando Torres', 'puesto': 'Analista de Datos'},\n",
    "    {'nombre': 'Marta Sánchez', 'puesto': 'Especialista en Marketing'},\n",
    "    {'nombre': 'Gabriel García', 'puesto': 'Administrador de Sistemas'},\n",
    "    {'nombre': 'Paula Fernández', 'puesto': 'Diseñadora Gráfica'},\n",
    "    {'nombre': 'Javier López', 'puesto': 'Contador'},\n",
    "    {'nombre': 'Claudia Romero', 'puesto': 'Recursos Humanos'},\n",
    "    {'nombre': 'Diego Pérez', 'puesto': 'Ingeniero de Redes'},\n",
    "    {'nombre': 'Valeria Ruiz', 'puesto': 'Consultora de Negocios'}\n",
    "]\n",
    "\n",
    "# Ejemplo de uso\n",
    "nombre_completo = 'Elena Martínez'\n",
    "print(buscar_puesto(nombre_completo, lista_empleados))  # Salida: Elena Martínez trabaja como Gerente de Proyecto.\n",
    "\n",
    "nombre_completo = 'Carlos Mendoza'\n",
    "print(buscar_puesto(nombre_completo, lista_empleados))  # Salida: Carlos Mendoza no trabaja aquí.\n"
   ]
  },
  {
   "cell_type": "code",
   "execution_count": null,
   "metadata": {},
   "outputs": [],
   "source": [
    "# 33. Crea una función lambda que suem elementos correspondientes de dos listas dadas."
   ]
  },
  {
   "cell_type": "code",
   "execution_count": 42,
   "metadata": {},
   "outputs": [
    {
     "name": "stdout",
     "output_type": "stream",
     "text": [
      "[11, 22, 33, 44]\n"
     ]
    }
   ],
   "source": [
    "# Definir la función lambda para sumar los elementos correspondientes de dos listas\n",
    "sumar_listas = lambda lista1, lista2: [x + y for x, y in zip(lista1, lista2)]\n",
    "\n",
    "# Ejemplo de uso con nuevas listas\n",
    "lista1 = [10, 20, 30, 40]\n",
    "lista2 = [1, 2, 3, 4]\n",
    "resultado = sumar_listas(lista1, lista2)\n",
    "print(resultado)  # Salida: [11, 22, 33, 44]"
   ]
  },
  {
   "cell_type": "code",
   "execution_count": null,
   "metadata": {},
   "outputs": [],
   "source": [
    "# 34. Crea la clase Arbol, define un árbol genérico con un tronco y ramas como atributos. Los métodos disponibles son:\n",
    "#     crecer_tronco, nueva_rama, crecer_ramas, quitar_rama e info_arbol. El objetivo es implementar estos métodos para\n",
    "#     manipular la estructura del árbol.\n",
    "#\n",
    "#     Código a seguir:\n",
    "#     1. Inicializar un árbol con un tronco de longitud 1 y una lista vacía de ramas.\n",
    "#     2. Implementar el método crecer_tronco para aumentar la longitud del tronco en una unidad\n",
    "#     3. Implementar el método nueva_rama para agregar una nueva rama de longitud 1 a la lista de ramas\n",
    "#     4. Implementar el método crecer_ramas para aumentar en una unidad la longitud de todas las ramas existentes\n",
    "#     5. Implementar el método quitar_rama para eliminar una rama en una posición específica\n",
    "#     6. Implementar el método info_arbol para devolver información sobre la longitud del tronco, el número de ramas y las\n",
    "#        longitudes de las mismas\n",
    "\n",
    "#     Caso de uso:\n",
    "#     1. Crear un árbol\n",
    "#     2. Hacer crecer el tronco del árbol una unidad\n",
    "#     3. Añadir una nueva rama al árbol\n",
    "#     4. Hacer crecer todas las ramas del árbol una unidad\n",
    "#     5. Añadir dos nuevas ramas al árbol\n",
    "#     6. Retirar la rama situada en la posición 2\n",
    "#     7. Obtener información sobre el árbol"
   ]
  },
  {
   "cell_type": "code",
   "execution_count": 44,
   "metadata": {},
   "outputs": [
    {
     "name": "stdout",
     "output_type": "stream",
     "text": [
      "Tronco: 1\n",
      "Número de ramas: 0\n",
      "Longitudes de las ramas: []\n",
      "Tronco: 2\n",
      "Número de ramas: 0\n",
      "Longitudes de las ramas: []\n",
      "Tronco: 2\n",
      "Número de ramas: 1\n",
      "Longitudes de las ramas: [1]\n",
      "Tronco: 2\n",
      "Número de ramas: 1\n",
      "Longitudes de las ramas: [2]\n",
      "Tronco: 2\n",
      "Número de ramas: 3\n",
      "Longitudes de las ramas: [2, 1, 1]\n",
      "Tronco: 2\n",
      "Número de ramas: 2\n",
      "Longitudes de las ramas: [2, 1]\n",
      "Tronco: 2\n",
      "Número de ramas: 2\n",
      "Longitudes de las ramas: [2, 1]\n"
     ]
    }
   ],
   "source": [
    "class Arbol:\n",
    "    def __init__(self):\n",
    "        \"\"\"\n",
    "        Inicializa un árbol con un tronco de longitud 1 y una lista vacía de ramas.\n",
    "        \"\"\"\n",
    "        self.tronco = 1\n",
    "        self.ramas = []\n",
    "\n",
    "    def crecer_tronco(self):\n",
    "        \"\"\"\n",
    "        Aumenta la longitud del tronco en una unidad.\n",
    "        \"\"\"\n",
    "        self.tronco += 1\n",
    "\n",
    "    def nueva_rama(self):\n",
    "        \"\"\"\n",
    "        Agrega una nueva rama de longitud 1 a la lista de ramas.\n",
    "        \"\"\"\n",
    "        self.ramas.append(1)\n",
    "\n",
    "    def crecer_ramas(self):\n",
    "        \"\"\"\n",
    "        Aumenta en una unidad la longitud de todas las ramas existentes.\n",
    "        \"\"\"\n",
    "        self.ramas = [rama + 1 for rama in self.ramas]\n",
    "\n",
    "    def quitar_rama(self, posicion):\n",
    "        \"\"\"\n",
    "        Elimina una rama en una posición específica.\n",
    "        \n",
    "        :param posicion: Índice de la rama a eliminar. Debe estar entre 0 y len(self.ramas) - 1.\n",
    "        :type posicion: int\n",
    "        \"\"\"\n",
    "        if 0 <= posicion < len(self.ramas):\n",
    "            self.ramas.pop(posicion)\n",
    "        else:\n",
    "            print(\"Posición no válida\")\n",
    "\n",
    "    def info_arbol(self):\n",
    "        \"\"\"\n",
    "        Devuelve información sobre la longitud del tronco, el número de ramas y las longitudes de las mismas.\n",
    "        \n",
    "        :return: Información del árbol como cadena de texto.\n",
    "        :rtype: str\n",
    "        \"\"\"\n",
    "        info = f\"Tronco: {self.tronco}\\nNúmero de ramas: {len(self.ramas)}\\nLongitudes de las ramas: {self.ramas}\"\n",
    "        return info\n",
    "\n",
    "# Caso de uso paso a paso\n",
    "\n",
    "# 1. Crear un árbol\n",
    "arbol = Arbol()\n",
    "print(arbol.info_arbol())  # Información inicial del árbol\n",
    "\n",
    "# 2. Hacer crecer el tronco del árbol una unidad\n",
    "arbol.crecer_tronco()\n",
    "print(arbol.info_arbol())  # Después de hacer crecer el tronco una unidad\n",
    "\n",
    "# 3. Añadir una nueva rama al árbol\n",
    "arbol.nueva_rama()\n",
    "print(arbol.info_arbol())  # Después de añadir una nueva rama\n",
    "\n",
    "# 4. Hacer crecer todas las ramas del árbol una unidad\n",
    "arbol.crecer_ramas()\n",
    "print(arbol.info_arbol())  # Después de hacer crecer todas las ramas una unidad\n",
    "\n",
    "# 5. Añadir dos nuevas ramas al árbol\n",
    "arbol.nueva_rama()\n",
    "arbol.nueva_rama()\n",
    "print(arbol.info_arbol())  # Después de añadir dos nuevas ramas\n",
    "\n",
    "# 6. Retirar la rama situada en la posición 2\n",
    "arbol.quitar_rama(2)\n",
    "print(arbol.info_arbol())  # Después de retirar la rama en la posición 2\n",
    "\n",
    "# 7. Obtener información sobre el árbol\n",
    "print(arbol.info_arbol())  # Información final del árbol\n"
   ]
  },
  {
   "cell_type": "code",
   "execution_count": null,
   "metadata": {},
   "outputs": [],
   "source": [
    "# 36. Crea la clase UsuarioBanco, representa a un usuario de un banco con su nombre, saldo y si tiene o no cuenta corriente. Proporciona,\n",
    "#     métodos para realizar operaciones como retirar dinero, transferir dinero desde otro usuario y agregar dinero al saldo.\n",
    "#  \n",
    "#     Código a seguir:\n",
    "#     1. Inicializar un usuario con su nombre, saldo y si tiene o no cuenta corriente mediante True y False\n",
    "#     2. Implementar el método retirar_dinero para retirar dinero del saldo del usuario. Lanzará un error en caso de no poder hacerse\n",
    "#     3. Implementar el método transferir_dinero para realizar una transferencia desde otro usuario al usuario actual.\n",
    "#        Lanzará un error en caso de no poder hacerse.\n",
    "#     4. Implementar el método agregar_dinero para agregar dinero al saldo del usuario.\n",
    "#\n",
    "#     Caso de uso:\n",
    "#     1. Crear dos usuarios: \"Alicia\" con saldo inicial de 100 y \"Bob\" con saldo inicial de 50, ambos con cuenta corriente.\n",
    "#     2. Agregar 20 unidades de saldo de \"Bob\"\n",
    "#     3. Hacer transferencia de 80 unidades desde \"Bob\" a \"Alicia\"\n",
    "#     4. Retirar 50 unidades de saldo a \"Alicia\""
   ]
  },
  {
   "cell_type": "code",
   "execution_count": 45,
   "metadata": {},
   "outputs": [
    {
     "name": "stdout",
     "output_type": "stream",
     "text": [
      "Saldo de Bob después de agregar dinero: 70\n",
      "Saldo insuficiente en Bob para transferir 80 unidades.\n",
      "Saldo de Alicia después de retirar dinero: 50\n"
     ]
    }
   ],
   "source": [
    "class UsuarioBanco:\n",
    "    def __init__(self, nombre, saldo, cuenta_corriente):\n",
    "        \"\"\"\n",
    "        Inicializa un usuario con su nombre, saldo y si tiene o no cuenta corriente.\n",
    "        \n",
    "        Args:\n",
    "            nombre (str): Nombre del usuario.\n",
    "            saldo (float): Saldo inicial del usuario.\n",
    "            cuenta_corriente (bool): Indica si el usuario tiene cuenta corriente (True o False).\n",
    "        \"\"\"\n",
    "        self.nombre = nombre\n",
    "        self.saldo = saldo\n",
    "        self.cuenta_corriente = cuenta_corriente\n",
    "\n",
    "    def retirar_dinero(self, cantidad):\n",
    "        \"\"\"\n",
    "        Retira una cantidad de dinero del saldo del usuario.\n",
    "        Lanza un error si el saldo es insuficiente.\n",
    "        \n",
    "        Args:\n",
    "            cantidad (float): Cantidad de dinero a retirar.\n",
    "        \n",
    "        Raises:\n",
    "            ValueError: Si el saldo es insuficiente para la operación.\n",
    "        \"\"\"\n",
    "        if cantidad > self.saldo:\n",
    "            raise ValueError(f\"Saldo insuficiente para retirar {cantidad} unidades.\")\n",
    "        self.saldo -= cantidad\n",
    "\n",
    "    def transferir_dinero(self, otro_usuario, cantidad):\n",
    "        \"\"\"\n",
    "        Realiza una transferencia de dinero desde otro usuario al usuario actual.\n",
    "        Lanza un error si el saldo del otro usuario es insuficiente.\n",
    "        \n",
    "        Args:\n",
    "            otro_usuario (UsuarioBanco): Usuario desde el cual se transferirá el dinero.\n",
    "            cantidad (float): Cantidad de dinero a transferir.\n",
    "        \n",
    "        Raises:\n",
    "            ValueError: Si el saldo del otro usuario es insuficiente para la operación.\n",
    "        \"\"\"\n",
    "        if cantidad > otro_usuario.saldo:\n",
    "            raise ValueError(f\"Saldo insuficiente en {otro_usuario.nombre} para transferir {cantidad} unidades.\")\n",
    "        otro_usuario.retirar_dinero(cantidad)\n",
    "        self.saldo += cantidad\n",
    "\n",
    "    def agregar_dinero(self, cantidad):\n",
    "        \"\"\"\n",
    "        Agrega una cantidad de dinero al saldo del usuario.\n",
    "        \n",
    "        Args:\n",
    "            cantidad (float): Cantidad de dinero a agregar.\n",
    "        \"\"\"\n",
    "        self.saldo += cantidad\n",
    "\n",
    "# Caso de uso\n",
    "\n",
    "# 1. Crear dos usuarios: \"Alicia\" con saldo inicial de 100 y \"Bob\" con saldo inicial de 50, ambos con cuenta corriente\n",
    "alicia = UsuarioBanco(\"Alicia\", 100, True)\n",
    "bob = UsuarioBanco(\"Bob\", 50, True)\n",
    "\n",
    "# 2. Agregar 20 unidades de saldo a \"Bob\"\n",
    "bob.agregar_dinero(20)\n",
    "print(f\"Saldo de Bob después de agregar dinero: {bob.saldo}\")  # Salida: 70\n",
    "\n",
    "# 3. Hacer transferencia de 80 unidades desde \"Bob\" a \"Alicia\"\n",
    "try:\n",
    "    alicia.transferir_dinero(bob, 80)\n",
    "    print(f\"Saldo de Alicia después de la transferencia: {alicia.saldo}\")  # Salida: 180\n",
    "    print(f\"Saldo de Bob después de la transferencia: {bob.saldo}\")  # Salida: -10\n",
    "except ValueError as e:\n",
    "    print(e)\n",
    "\n",
    "# 4. Retirar 50 unidades de saldo a \"Alicia\"\n",
    "try:\n",
    "    alicia.retirar_dinero(50)\n",
    "    print(f\"Saldo de Alicia después de retirar dinero: {alicia.saldo}\")  # Salida: 130\n",
    "except ValueError as e:\n",
    "    print(e)"
   ]
  },
  {
   "cell_type": "code",
   "execution_count": null,
   "metadata": {},
   "outputs": [],
   "source": [
    "# 37. Crea una función llamada procesar_texto que procesa un texto según la opción especificada: contar_palabras, reemplazar_palabras,\n",
    "#     eliminar_palabras, eliminar_palabra. Estas opciones son otras funciones que tenemos que definir primero y llamar dentro\n",
    "#     de la función procesar_texto\n",
    "\n",
    "#     Código a seguir:\n",
    "#     1. Crear una función contar_palabras para contar el número de veces que aparece cada palabra en el texto. Tiene que devolver un diccionario\n",
    "#     2. Crear una función reemplazar_palabras para reemplazar una palabra_original del texto por una palabra_nueva.\n",
    "#        Tiene que devolver el texto con el remplazo de palabras\n",
    "#     3. Crear una función eliminar_palabra para eliminar una palabra del texto. Tiene que devolver el texto con la palabra eliminada.\n",
    "#     4. Crear la función procesar_texto que tome un texto, una opción (entre \"contar\", \"reemplazar\", \"eliminar\") y un número\n",
    "#        de argumentos variable según la opción indicada\n",
    "\n",
    "#     Caso de uso:\n",
    "#     Comprueba el funcionamiento completo de la función procesar_texto"
   ]
  },
  {
   "cell_type": "code",
   "execution_count": 49,
   "metadata": {},
   "outputs": [
    {
     "name": "stdout",
     "output_type": "stream",
     "text": [
      "Contar palabras: {'El': 1, 'conocimiento': 2, 'es': 1, 'poder.': 1, 'Compartir': 1, 'nos': 2, 'hace': 1, 'más': 1, 'fuertes.': 1, 'La': 1, 'ignorancia': 1, 'limita.': 1}\n",
      "Reemplazar palabras: El sabiduría es poder. Compartir sabiduría nos hace más fuertes. La ignorancia nos limita.\n",
      "Eliminar palabra: El conocimiento es poder. Compartir conocimiento nos hace más fuertes. La nos limita.\n"
     ]
    }
   ],
   "source": [
    "def contar_palabras(texto):\n",
    "    \"\"\"\n",
    "    Cuenta el número de veces que aparece cada palabra en el texto.\n",
    "    \n",
    "    Args:\n",
    "        texto (str): El texto a procesar.\n",
    "    \n",
    "    Returns:\n",
    "        dict: Un diccionario con cada palabra y su frecuencia.\n",
    "    \"\"\"\n",
    "    palabras = texto.split()\n",
    "    conteo = {}\n",
    "    for palabra in palabras:\n",
    "        if palabra in conteo:\n",
    "            conteo[palabra] += 1\n",
    "        else:\n",
    "            conteo[palabra] = 1\n",
    "    return conteo\n",
    "\n",
    "def reemplazar_palabras(texto, palabra_original, palabra_nueva):\n",
    "    \"\"\"\n",
    "    Reemplaza una palabra_original del texto por una palabra_nueva.\n",
    "    \n",
    "    Args:\n",
    "        texto (str): El texto a procesar.\n",
    "        palabra_original (str): La palabra original a reemplazar.\n",
    "        palabra_nueva (str): La nueva palabra que reemplazará la original.\n",
    "    \n",
    "    Returns:\n",
    "        str: El texto con el reemplazo de palabras.\n",
    "    \"\"\"\n",
    "    return texto.replace(palabra_original, palabra_nueva)\n",
    "\n",
    "def eliminar_palabra(texto, palabra_a_eliminar):\n",
    "    \"\"\"\n",
    "    Elimina una palabra específica del texto.\n",
    "    \n",
    "    Args:\n",
    "        texto (str): El texto a procesar.\n",
    "        palabra_a_eliminar (str): La palabra a eliminar.\n",
    "    \n",
    "    Returns:\n",
    "        str: El texto con la palabra eliminada.\n",
    "    \"\"\"\n",
    "    palabras = texto.split()\n",
    "    palabras_filtradas = [palabra for palabra in palabras if palabra != palabra_a_eliminar]\n",
    "    return ' '.join(palabras_filtradas)\n",
    "\n",
    "def procesar_texto(texto, opcion, *args):\n",
    "    \"\"\"\n",
    "    Procesa un texto según la opción especificada: contar, reemplazar, eliminar.\n",
    "    \n",
    "    Args:\n",
    "        texto (str): El texto a procesar.\n",
    "        opcion (str): La opción de procesamiento (\"contar\", \"reemplazar\", \"eliminar\").\n",
    "        *args: Argumentos adicionales según la opción especificada.\n",
    "    \n",
    "    Returns:\n",
    "        El resultado del procesamiento del texto.\n",
    "    \"\"\"\n",
    "    if opcion == \"contar\":\n",
    "        return contar_palabras(texto)\n",
    "    elif opcion == \"reemplazar\":\n",
    "        palabra_original, palabra_nueva = args\n",
    "        return reemplazar_palabras(texto, palabra_original, palabra_nueva)\n",
    "    elif opcion == \"eliminar\":\n",
    "        palabra_a_eliminar = args[0]\n",
    "        return eliminar_palabra(texto, palabra_a_eliminar)\n",
    "    else:\n",
    "        return \"Opción no válida\"\n",
    "\n",
    "# Caso de uso\n",
    "\n",
    "texto = \"El conocimiento es poder. Compartir conocimiento nos hace más fuertes. La ignorancia nos limita.\"\n",
    "\n",
    "# Contar palabras\n",
    "resultado_contar = procesar_texto(texto, \"contar\")\n",
    "print(f\"Contar palabras: {resultado_contar}\")\n",
    "\n",
    "# Reemplazar palabra \"conocimiento\" por \"sabiduría\"\n",
    "resultado_reemplazar = procesar_texto(texto, \"reemplazar\", \"conocimiento\", \"sabiduría\")\n",
    "print(f\"Reemplazar palabras: {resultado_reemplazar}\")\n",
    "\n",
    "# Eliminar la palabra \"ignorancia\"\n",
    "resultado_eliminar = procesar_texto(texto, \"eliminar\", \"ignorancia\")\n",
    "print(f\"Eliminar palabra: {resultado_eliminar}\")\n",
    "\n"
   ]
  },
  {
   "cell_type": "code",
   "execution_count": null,
   "metadata": {},
   "outputs": [],
   "source": [
    "# 38. Genera un programa que nos diga si es de noche, de día o tarde según la hora proporcionada por el usuario"
   ]
  },
  {
   "cell_type": "code",
   "execution_count": 53,
   "metadata": {},
   "outputs": [
    {
     "name": "stdout",
     "output_type": "stream",
     "text": [
      "Es Día.\n"
     ]
    }
   ],
   "source": [
    "def determinar_momento_del_dia(hora):\n",
    "    \"\"\"\n",
    "    Determina si es de noche, de día o tarde según la hora proporcionada.\n",
    "    \n",
    "    Args:\n",
    "        hora (int): La hora en formato 24 horas.\n",
    "    \n",
    "    Returns:\n",
    "        str: Momento del día (\"Noche\", \"Día\" o \"Tarde\").\n",
    "    \"\"\"\n",
    "    if 0 <= hora < 6 or 20 <= hora <= 23:\n",
    "        return \"Noche\"\n",
    "    elif 6 <= hora < 12:\n",
    "        return \"Día\"\n",
    "    elif 12 <= hora < 20:\n",
    "        return \"Tarde\"\n",
    "    else:\n",
    "        return \"Hora no válida\"\n",
    "\n",
    "# Solicitar al usuario ingresar la hora\n",
    "try:\n",
    "    hora_usuario = int(input(\"Por favor, ingrese la hora actual (0-23): \"))\n",
    "    momento_del_dia = determinar_momento_del_dia(hora_usuario)\n",
    "    print(f\"Es {momento_del_dia}.\")\n",
    "except ValueError:\n",
    "    print(\"Por favor, ingrese un número válido.\")"
   ]
  },
  {
   "cell_type": "code",
   "execution_count": null,
   "metadata": {},
   "outputs": [],
   "source": [
    "# 39. Escribe un programa que determine qué calificación en texto tiene un alumno en base a su calificación numérica.\n",
    "#     Las reglas de clasificación son:\n",
    "\n",
    "#     - 0 - 69 insuficiente\n",
    "#     - 70 - 79 bien\n",
    "#     - 80 - 89 muy bien\n",
    "#     - 90 - 100 excelente"
   ]
  },
  {
   "cell_type": "code",
   "execution_count": 55,
   "metadata": {},
   "outputs": [
    {
     "name": "stdout",
     "output_type": "stream",
     "text": [
      "La calificación del alumno es: Insuficiente\n"
     ]
    }
   ],
   "source": [
    "def calificacion_texto(calificacion_numerica):\n",
    "    \"\"\"\n",
    "    Determina la calificación en texto de un alumno en base a su calificación numérica.\n",
    "    \n",
    "    Args:\n",
    "        calificacion_numerica (int): La calificación numérica del alumno.\n",
    "    \n",
    "    Returns:\n",
    "        str: La calificación en texto.\n",
    "    \"\"\"\n",
    "    if 0 <= calificacion_numerica <= 69:\n",
    "        return \"Insuficiente\"\n",
    "    elif 70 <= calificacion_numerica <= 79:\n",
    "        return \"Bien\"\n",
    "    elif 80 <= calificacion_numerica <= 89:\n",
    "        return \"Muy bien\"\n",
    "    elif 90 <= calificacion_numerica <= 100:\n",
    "        return \"Excelente\"\n",
    "    else:\n",
    "        return \"Calificación no válida\"\n",
    "\n",
    "# Caso de uso\n",
    "try:\n",
    "    calificacion_numerica = int(input(\"Ingrese la calificación numérica del alumno (0-100): \"))\n",
    "    calificacion = calificacion_texto(calificacion_numerica)\n",
    "    print(f\"La calificación del alumno es: {calificacion}\")\n",
    "except ValueError:\n",
    "    print(\"Por favor, ingrese un número válido.\")"
   ]
  },
  {
   "cell_type": "code",
   "execution_count": null,
   "metadata": {},
   "outputs": [],
   "source": [
    "# 40. Escribe una función que tome dos parámetros: figura (una cadena que puede ser \"rectangulo\", \"circulo\" o \"triangulo\") y\n",
    "#     datos (una tupla con los datos necesarios para calcular el área de la figura)"
   ]
  },
  {
   "cell_type": "code",
   "execution_count": 56,
   "metadata": {},
   "outputs": [
    {
     "name": "stdout",
     "output_type": "stream",
     "text": [
      "Área del rectángulo: 15\n",
      "Área del círculo: 50.26548245743669\n",
      "Área del triángulo: 6.0\n"
     ]
    }
   ],
   "source": [
    "import math\n",
    "\n",
    "def calcular_area(figura, datos):\n",
    "    \"\"\"\n",
    "    Calcula el área de una figura geométrica.\n",
    "    \n",
    "    Args:\n",
    "        figura (str): La figura geométrica (\"rectangulo\", \"circulo\" o \"triangulo\").\n",
    "        datos (tuple): Una tupla con los datos necesarios para calcular el área de la figura.\n",
    "    \n",
    "    Returns:\n",
    "        float: El área de la figura.\n",
    "    \"\"\"\n",
    "    if figura == \"rectangulo\":\n",
    "        if len(datos) != 2:\n",
    "            raise ValueError(\"Para un rectángulo, se necesitan dos datos: base y altura.\")\n",
    "        base, altura = datos\n",
    "        return base * altura\n",
    "\n",
    "    elif figura == \"circulo\":\n",
    "        if len(datos) != 1:\n",
    "            raise ValueError(\"Para un círculo, se necesita un dato: radio.\")\n",
    "        radio = datos[0]\n",
    "        return math.pi * radio ** 2\n",
    "\n",
    "    elif figura == \"triangulo\":\n",
    "        if len(datos) != 2:\n",
    "            raise ValueError(\"Para un triángulo, se necesitan dos datos: base y altura.\")\n",
    "        base, altura = datos\n",
    "        return (base * altura) / 2\n",
    "\n",
    "    else:\n",
    "        raise ValueError(\"Figura no válida. Las opciones válidas son: 'rectangulo', 'circulo' o 'triangulo'.\")\n",
    "\n",
    "# Ejemplos de uso:\n",
    "# Calcular el área de un rectángulo con base 5 y altura 3\n",
    "area_rectangulo = calcular_area(\"rectangulo\", (5, 3))\n",
    "print(f\"Área del rectángulo: {area_rectangulo}\")\n",
    "\n",
    "# Calcular el área de un círculo con radio 4\n",
    "area_circulo = calcular_area(\"circulo\", (4,))\n",
    "print(f\"Área del círculo: {area_circulo}\")\n",
    "\n",
    "# Calcular el área de un triángulo con base 6 y altura 2\n",
    "area_triangulo = calcular_area(\"triangulo\", (6, 2))\n",
    "print(f\"Área del triángulo: {area_triangulo}\")\n"
   ]
  },
  {
   "cell_type": "code",
   "execution_count": null,
   "metadata": {},
   "outputs": [],
   "source": [
    "# 41. En este ejercicio, se te pidirá que escribas un programa Python que utilice condicionales para determinar el monto final\n",
    "#     de una compra en una tienda en línea, después de aplicar un descuento. El programa debe hacer lo siguiente:\n",
    "\n",
    "#     1. Solicita al usuario que ingrese el precio original de un artículo\n",
    "#     2. Pregunta al usuario si tiene un cupón de descuento (respuesta sí o no)\n",
    "#     3. Si el usuario responde sí, solicita que ingrese el valor del cupón de descuento\n",
    "#     4. Aplica el descuento al precio original del artículo, siempre y cuando el valor del cupón sea válido\n",
    "#        (es decir, mayor a cero). Por ejemplo, descuento de 15€\n",
    "#     5. Muestra el precio final de la compra, teniendo en cuenta el descuento aplicado o sin él\n",
    "#     6. Recuerda utilizar estructuras de control de flujo como if, elif y else para llevar a cabo estas acciones\n",
    "#        en tu programa Python"
   ]
  },
  {
   "cell_type": "code",
   "execution_count": 63,
   "metadata": {},
   "outputs": [
    {
     "name": "stdout",
     "output_type": "stream",
     "text": [
      "El precio final de la compra es: 1950.00€\n"
     ]
    }
   ],
   "source": [
    "def calcular_precio_final():\n",
    "    \"\"\"\n",
    "    Calcula el precio final de una compra aplicando un descuento si el usuario tiene un cupón válido.\n",
    "    \"\"\"\n",
    "    try:\n",
    "        # Solicita al usuario que ingrese el precio original de un artículo\n",
    "        precio_original = float(input(\"Ingrese el precio original del artículo: \"))\n",
    "        \n",
    "        # Pregunta al usuario si tiene un cupón de descuento\n",
    "        tiene_cupon = input(\"¿Tiene un cupón de descuento? (sí o no): \").strip().lower()\n",
    "\n",
    "        # Si el usuario responde sí\n",
    "        if tiene_cupon == \"sí\" or tiene_cupon == \"si\":\n",
    "            # Solicita que ingrese el valor del cupón de descuento\n",
    "            valor_cupon = float(input(\"Ingrese el valor del cupón de descuento: \"))\n",
    "            \n",
    "            # Aplica el descuento al precio original del artículo si el cupón es válido (mayor a cero)\n",
    "            if valor_cupon > 0:\n",
    "                precio_final = precio_original - valor_cupon\n",
    "            else:\n",
    "                print(\"El valor del cupón no es válido. No se aplicará ningún descuento.\")\n",
    "                precio_final = precio_original\n",
    "        elif tiene_cupon == \"no\":\n",
    "            # Si el usuario no tiene un cupón, el precio final es el precio original\n",
    "            precio_final = precio_original\n",
    "        else:\n",
    "            print(\"Respuesta no válida. No se aplicará ningún descuento.\")\n",
    "            precio_final = precio_original\n",
    "        \n",
    "        # Muestra el precio final de la compra\n",
    "        print(f\"El precio final de la compra es: {precio_final:.2f}€\")\n",
    "    \n",
    "    except ValueError:\n",
    "        print(\"Por favor, ingrese un valor numérico válido para el precio y el valor del cupón.\")\n",
    "\n",
    "# Ejecutar la función para calcular el precio final\n",
    "calcular_precio_final()\n"
   ]
  }
 ],
 "metadata": {
  "kernelspec": {
   "display_name": "Python 3",
   "language": "python",
   "name": "python3"
  },
  "language_info": {
   "codemirror_mode": {
    "name": "ipython",
    "version": 3
   },
   "file_extension": ".py",
   "mimetype": "text/x-python",
   "name": "python",
   "nbconvert_exporter": "python",
   "pygments_lexer": "ipython3",
   "version": "3.13.2"
  }
 },
 "nbformat": 4,
 "nbformat_minor": 2
}
