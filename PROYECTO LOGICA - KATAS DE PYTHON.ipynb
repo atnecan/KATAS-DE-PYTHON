{
 "cells": [
  {
   "cell_type": "code",
   "execution_count": null,
   "metadata": {},
   "outputs": [],
   "source": []
  },
  {
   "cell_type": "markdown",
   "metadata": {},
   "source": [
    "PROYECTO LÓGICA: KATAS DE PYTHON"
   ]
  },
  {
   "cell_type": "code",
   "execution_count": 1,
   "metadata": {},
   "outputs": [
    {
     "name": "stdout",
     "output_type": "stream",
     "text": [
      "{'B': 1, 'i': 2, 'e': 3, 'n': 4, 'v': 1, 'd': 3, 'o': 3, 'a': 1, 'l': 1, 'm': 1, 'u': 1, 'P': 1, 'y': 1, 't': 1, 'h': 1}\n"
     ]
    }
   ],
   "source": [
    "# 1. Escribe una función que reciba una cadena de texto como parámetro y devuelva un diccionario con las frecuencias\n",
    "#    de cada letra en la cadena. Los espacios no deben ser considerados.\n",
    "\n",
    "def contar_frecuencias(cadena):\n",
    "    # Crear un diccionario vacío para almacenar las frecuencias\n",
    "    frecuencias = {}\n",
    "    \n",
    "    # Recorrer cada carácter en la cadena\n",
    "    for caracter in cadena:\n",
    "        # Ignorar los espacios\n",
    "        if caracter != ' ':\n",
    "            # Si el carácter ya está en el diccionario, incrementar su contador\n",
    "            if caracter in frecuencias:\n",
    "                frecuencias[caracter] += 1\n",
    "            # Si el carácter no está en el diccionario, agregarlo con un contador inicial de 1\n",
    "            else:\n",
    "                frecuencias[caracter] = 1\n",
    "    \n",
    "    return frecuencias\n",
    "\n",
    "# Ejemplo de uso\n",
    "cadena = \"Bienvenido al mundo de Python\"\n",
    "resultado = contar_frecuencias(cadena)\n",
    "print(resultado)\n"
   ]
  },
  {
   "cell_type": "code",
   "execution_count": 3,
   "metadata": {},
   "outputs": [
    {
     "name": "stdout",
     "output_type": "stream",
     "text": [
      "[2, 4, 6, 8, 10, 12, 14, 16]\n"
     ]
    }
   ],
   "source": [
    "# 2. Dada una lista de números, obtén una nueva lista con el doble de cada valor. Usa la función map().\n",
    "\n",
    "# Lista de números\n",
    "numeros = [1, 2, 3, 4, 5, 6, 7, 8]\n",
    "\n",
    "# Definir una función que duplica el valor\n",
    "def duplicar(x):\n",
    "    return x * 2\n",
    "\n",
    "# Obtener una nueva lista con el doble de cada valor usando map() y la función duplicar\n",
    "dobles = list(map(duplicar, numeros))\n",
    "\n",
    "# Imprimir la nueva lista\n",
    "print(dobles)\n"
   ]
  }
 ],
 "metadata": {
  "kernelspec": {
   "display_name": "Python 3",
   "language": "python",
   "name": "python3"
  },
  "language_info": {
   "codemirror_mode": {
    "name": "ipython",
    "version": 3
   },
   "file_extension": ".py",
   "mimetype": "text/x-python",
   "name": "python",
   "nbconvert_exporter": "python",
   "pygments_lexer": "ipython3",
   "version": "3.13.0"
  }
 },
 "nbformat": 4,
 "nbformat_minor": 2
}
