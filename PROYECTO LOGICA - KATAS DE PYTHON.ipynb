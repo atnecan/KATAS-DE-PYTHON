{
 "cells": [
  {
   "cell_type": "code",
   "execution_count": null,
   "metadata": {},
   "outputs": [],
   "source": []
  },
  {
   "cell_type": "markdown",
   "metadata": {},
   "source": [
    "PROYECTO LÓGICA: KATAS DE PYTHON"
   ]
  },
  {
   "cell_type": "code",
   "execution_count": 1,
   "metadata": {},
   "outputs": [
    {
     "name": "stdout",
     "output_type": "stream",
     "text": [
      "{'B': 1, 'i': 2, 'e': 3, 'n': 4, 'v': 1, 'd': 3, 'o': 3, 'a': 1, 'l': 1, 'm': 1, 'u': 1, 'P': 1, 'y': 1, 't': 1, 'h': 1}\n"
     ]
    }
   ],
   "source": [
    "# 1. Escribe una función que reciba una cadena de texto como parámetro y devuelva un diccionario con las frecuencias\n",
    "#    de cada letra en la cadena. Los espacios no deben ser considerados.\n",
    "\n",
    "def contar_frecuencias(cadena):\n",
    "    # Crear un diccionario vacío para almacenar las frecuencias\n",
    "    frecuencias = {}\n",
    "    \n",
    "    # Recorrer cada carácter en la cadena\n",
    "    for caracter in cadena:\n",
    "        # Ignorar los espacios\n",
    "        if caracter != ' ':\n",
    "            # Si el carácter ya está en el diccionario, incrementar su contador\n",
    "            if caracter in frecuencias:\n",
    "                frecuencias[caracter] += 1\n",
    "            # Si el carácter no está en el diccionario, agregarlo con un contador inicial de 1\n",
    "            else:\n",
    "                frecuencias[caracter] = 1\n",
    "    \n",
    "    return frecuencias\n",
    "\n",
    "# Ejemplo de uso\n",
    "cadena = \"Bienvenido al mundo de Python\"\n",
    "resultado = contar_frecuencias(cadena)\n",
    "print(resultado)\n"
   ]
  },
  {
   "cell_type": "code",
   "execution_count": 3,
   "metadata": {},
   "outputs": [
    {
     "name": "stdout",
     "output_type": "stream",
     "text": [
      "[2, 4, 6, 8, 10, 12, 14, 16]\n"
     ]
    }
   ],
   "source": [
    "# 2. Dada una lista de números, obtén una nueva lista con el doble de cada valor. Usa la función map().\n",
    "\n",
    "# Lista de números\n",
    "numeros = [1, 2, 3, 4, 5, 6, 7, 8]\n",
    "\n",
    "# Definir una función que duplica el valor\n",
    "def duplicar(x):\n",
    "    return x * 2\n",
    "\n",
    "# Obtener una nueva lista con el doble de cada valor usando map() y la función duplicar\n",
    "dobles = list(map(duplicar, numeros))\n",
    "\n",
    "# Imprimir la nueva lista\n",
    "print(dobles)\n"
   ]
  },
  {
   "cell_type": "code",
   "execution_count": 2,
   "metadata": {},
   "outputs": [
    {
     "name": "stdout",
     "output_type": "stream",
     "text": [
      "['escabeche']\n"
     ]
    }
   ],
   "source": [
    "# 3. Escribe una función que tome una lista de palabras y una palabra objetivo como parámetros. La función\n",
    "#    debe devolver una lista con todas las palabras de la lista original que contengan la palabra objetivo.\n",
    "\n",
    "def encontrar_palabras(lista_palabras, palabra_objetivo):\n",
    "    # Crear una lista vacía para almacenar las palabras que contienen la palabra objetivo\n",
    "    palabras_con_objetivo = []\n",
    "    \n",
    "    # Recorrer cada palabra en la lista de palabras\n",
    "    for palabra in lista_palabras:\n",
    "        # Verificar si la palabra objetivo está en la palabra actual\n",
    "        if palabra_objetivo in palabra:\n",
    "            # Agregar la palabra a la lista si contiene la palabra objetivo\n",
    "            palabras_con_objetivo.append(palabra)\n",
    "    \n",
    "    return palabras_con_objetivo\n",
    "\n",
    "# Ejemplo de uso\n",
    "lista_palabras = [\"espagueti\",\"boquerones\",\"lasaña\",\"merluza\",\"pollo\",\"escabeche\",\"paella\"]\n",
    "palabra_objetivo = \"escabeche\"\n",
    "resultado = encontrar_palabras(lista_palabras, palabra_objetivo)\n",
    "print(resultado)\n"
   ]
  },
  {
   "cell_type": "code",
   "execution_count": 4,
   "metadata": {},
   "outputs": [
    {
     "name": "stdout",
     "output_type": "stream",
     "text": [
      "[10, 20, 30, 40, 50]\n"
     ]
    }
   ],
   "source": [
    "# 4. Genera la función que calcule la diferencia entre los valores de dos listas. Usa la función map()\n",
    "\n",
    "def calcular_diferencias(lista1, lista2):\n",
    "    # Utilizar map() para restar los valores correspondientes de las dos listas\n",
    "    diferencias = list(map(lambda x, y: x - y, lista1, lista2))\n",
    "    return diferencias\n",
    "\n",
    "# Ejemplo de uso\n",
    "lista1 = [11, 22, 33, 44, 55]\n",
    "lista2 = [1, 2, 3, 4, 5]\n",
    "resultado = calcular_diferencias(lista1, lista2)\n",
    "print(resultado)\n"
   ]
  },
  {
   "cell_type": "code",
   "execution_count": null,
   "metadata": {},
   "outputs": [
    {
     "name": "stdout",
     "output_type": "stream",
     "text": [
      "(6.36, 'aprobado')\n"
     ]
    }
   ],
   "source": [
    "# 5. Escribe una función que tome una lista de números y un valor opcional nota_aprobado, que por defecto es 5.\n",
    "#    La función debe calcular la media de los números en la lista y determinar si la media es mayor o igual que\n",
    "#    nota aprobado. Si es así, el estado será \"aprobado\", de lo contrario, será \"suspenso\". La función debe devolver\n",
    "#    una tupla que contenga la media y el estado.\n",
    "\n",
    "def calcular_media(lista_numeros, nota_aprobado=5):\n",
    "    # Calcular la media de los números en la lista\n",
    "    media = round(sum(lista_numeros) / len(lista_numeros), 2) if lista_numeros else 0\n",
    "    \n",
    "    # Determinar el estado\n",
    "    if media >= nota_aprobado:\n",
    "        estado = \"aprobado\"\n",
    "    else:\n",
    "        estado = \"suspenso\"\n",
    "    \n",
    "    # Devolver una tupla con la media y el estado\n",
    "    return (media, estado)\n",
    "\n",
    "# Ejemplo de uso\n",
    "lista_numeros = [5, 4.5, 6, 7, 5, 8, 9]\n",
    "resultado = calcular_media(lista_numeros)\n",
    "print(resultado)  # Salida: (6.36, 'aprobado')\n"
   ]
  },
  {
   "cell_type": "code",
   "execution_count": 1,
   "metadata": {},
   "outputs": [
    {
     "name": "stdout",
     "output_type": "stream",
     "text": [
      "El factorial de 10 es 3628800\n"
     ]
    }
   ],
   "source": [
    "# 6. Escribe una función que calcule el factorial de un número de manera recursiva.\n",
    "\n",
    "def factorial(n):\n",
    "    if n == 0:\n",
    "        return 1\n",
    "    else:\n",
    "        return n * factorial(n - 1)\n",
    "\n",
    "# Ejemplo de uso\n",
    "numero = 10\n",
    "resultado = factorial(numero)\n",
    "print(f\"El factorial de {numero} es {resultado}\")\n"
   ]
  },
  {
   "cell_type": "code",
   "execution_count": 4,
   "metadata": {},
   "outputs": [
    {
     "name": "stdout",
     "output_type": "stream",
     "text": [
      "['10 20', '30 40', '50 60']\n"
     ]
    }
   ],
   "source": [
    "# 7. Genera una función que convierta una lista de tuplas a una lista de strings. Usa la función map()\n",
    "\n",
    "def tuplas_a_strings(lista_tuplas):\n",
    "    # Función que convierte una tupla a un string\n",
    "    def tupla_a_string(tupla):\n",
    "        return ' '.join(map(str, tupla))\n",
    "    \n",
    "    # Usar map() para aplicar la función tupla_a_string a cada elemento de la lista\n",
    "    lista_strings = list(map(tupla_a_string, lista_tuplas))\n",
    "    return lista_strings\n",
    "\n",
    "# Ejemplo de uso\n",
    "lista_tuplas = [(10, 20), (30, 40), (50, 60)]\n",
    "lista_strings = tuplas_a_strings(lista_tuplas)\n",
    "print(lista_strings)\n"
   ]
  },
  {
   "cell_type": "code",
   "execution_count": 9,
   "metadata": {},
   "outputs": [
    {
     "name": "stdout",
     "output_type": "stream",
     "text": [
      "La división fue exitosa. El resultado de 33.0 / 2.0 es 16.5.\n",
      "Fin del programa.\n"
     ]
    }
   ],
   "source": [
    "# 8. Escribe un programa que pida al usuario dos números e intente dividirlos. Si el usuario ingresa un valor no numérico\n",
    "#    o intenta dividir por cero, maneja esas excepciones de manera adecuada. Asegúrate de mostrar un mensaje \n",
    "#    indicando si la división fue exitosa o no. \n",
    "\n",
    "def dividir_numeros():\n",
    "    try:\n",
    "        # Pedir al usuario que ingrese dos números\n",
    "        num1 = float(input(\"Introduce el primer número: \"))\n",
    "        num2 = float(input(\"Introduce el segundo número: \"))\n",
    "        \n",
    "        # Intentar dividir los números\n",
    "        resultado = num1 / num2\n",
    "    except ValueError:\n",
    "        # Manejar el caso en que el usuario ingresa un valor no numérico\n",
    "        print(\"Error: Uno o ambos valores ingresados no son números. Por favor, introduce números válidos.\")\n",
    "    except ZeroDivisionError:\n",
    "        # Manejar el caso en que el usuario intenta dividir por cero\n",
    "        print(\"Error: No se puede dividir por cero. Por favor, introduce un segundo número diferente de cero.\")\n",
    "    else:\n",
    "        # Mostrar el resultado si la división fue exitosa\n",
    "        print(f\"La división fue exitosa. El resultado de {num1} / {num2} es {resultado}.\")\n",
    "    finally:\n",
    "        # Mensaje final que siempre se muestra\n",
    "        print(\"Fin del programa.\")\n",
    "\n",
    "# Ejemplo de uso\n",
    "dividir_numeros()\n"
   ]
  },
  {
   "cell_type": "code",
   "execution_count": null,
   "metadata": {},
   "outputs": [],
   "source": []
  }
 ],
 "metadata": {
  "kernelspec": {
   "display_name": "Python 3",
   "language": "python",
   "name": "python3"
  },
  "language_info": {
   "codemirror_mode": {
    "name": "ipython",
    "version": 3
   },
   "file_extension": ".py",
   "mimetype": "text/x-python",
   "name": "python",
   "nbconvert_exporter": "python",
   "pygments_lexer": "ipython3",
   "version": "3.13.2"
  }
 },
 "nbformat": 4,
 "nbformat_minor": 2
}
